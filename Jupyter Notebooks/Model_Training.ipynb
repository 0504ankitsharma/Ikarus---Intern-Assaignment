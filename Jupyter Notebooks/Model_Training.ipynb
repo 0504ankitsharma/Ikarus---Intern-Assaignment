{
 "cells": [
  {
   "cell_type": "code",
   "execution_count": null,
   "id": "602787d7",
   "metadata": {},
   "outputs": [],
   "source": [
    "# 📘 Cell 1: Install required packages\n",
    "# Reasoning: Ensures that all necessary libraries for model training are installed.\n",
    "!pip install pandas numpy scikit-learn matplotlib seaborn --quiet"
   ]
  },
  {
   "cell_type": "code",
   "execution_count": null,
   "id": "12fb547a",
   "metadata": {},
   "outputs": [],
   "source": [
    "# 📘 Cell 2: Import libraries\n",
    "# Reasoning: Import standard Python libraries for data loading, analysis, and model building.\n",
    "import pandas as pd\n",
    "import numpy as np\n",
    "import matplotlib.pyplot as plt\n",
    "import seaborn as sns\n",
    "from sklearn.feature_extraction.text import TfidfVectorizer\n",
    "from sklearn.neighbors import NearestNeighbors\n",
    "from sklearn.metrics.pairwise import cosine_similarity\n",
    "from sklearn.model_selection import train_test_split\n",
    "from sklearn.metrics import classification_report, accuracy_score\n",
    "import pickle\n",
    "sns.set(style=\"whitegrid\")"
   ]
  },
  {
   "cell_type": "code",
   "execution_count": null,
   "id": "18a3b9bd",
   "metadata": {},
   "outputs": [],
   "source": [
    "# 📘 Cell 3: Load the cleaned dataset\n",
    "# Reasoning: Load the dataset created in the Data Analytics notebook for model training.\n",
    "DATA_PATH = \"data/cleaned_dataset.csv\"\n",
    "df = pd.read_csv(DATA_PATH)\n",
    "print(\"✅ Cleaned dataset loaded successfully!\")\n",
    "print(\"Shape:\", df.shape)\n",
    "df.head()"
   ]
  },
  {
   "cell_type": "code",
   "execution_count": null,
   "id": "1bc5c0ed",
   "metadata": {},
   "outputs": [],
   "source": [
    "# 📘 Cell 4: Identify text column to use for model\n",
    "# Reasoning: Automatically detect a suitable column (e.g., description or clean_description) for training.\n",
    "text_col = None\n",
    "for possible in ['clean_description', 'description', 'title']:\n",
    "    if possible in df.columns:\n",
    "        text_col = possible\n",
    "        break\n",
    "if text_col is None:\n",
    "    raise ValueError(\"❌ No suitable text column found. Ensure your dataset has 'description' or 'clean_description'.\")\n",
    "else:\n",
    "    print(f\"✅ Using text column: '{text_col}'\")"
   ]
  },
  {
   "cell_type": "code",
   "execution_count": null,
   "id": "de312062",
   "metadata": {},
   "outputs": [],
   "source": [
    "# 📘 Cell 5: TF-IDF Vectorization\n",
    "# Reasoning: Convert text data into numerical features suitable for similarity-based recommendation.\n",
    "tfidf = TfidfVectorizer(stop_words='english', max_features=10000)\n",
    "tfidf_matrix = tfidf.fit_transform(df[text_col])\n",
    "print(\"✅ TF-IDF matrix created successfully!\")\n",
    "print(\"Matrix shape:\", tfidf_matrix.shape)"
   ]
  },
  {
   "cell_type": "code",
   "execution_count": null,
   "id": "fedee77f",
   "metadata": {},
   "outputs": [],
   "source": [
    "# 📘 Cell 6: Train Nearest Neighbors model\n",
    "# Reasoning: Use cosine similarity to find similar items based on text features.\n",
    "model = NearestNeighbors(metric='cosine', algorithm='brute')\n",
    "model.fit(tfidf_matrix)\n",
    "print(\"✅ Nearest Neighbors model trained successfully!\")"
   ]
  },
  {
   "cell_type": "code",
   "execution_count": null,
   "id": "985824f0",
   "metadata": {},
   "outputs": [],
   "source": [
    "# 📘 Cell 7: Define recommendation function\n",
    "# Reasoning: Function to get top-k similar items given a product index.\n",
    "def get_recommendations(index, top_k=5):\n",
    "    distances, indices = model.kneighbors(tfidf_matrix[index], n_neighbors=top_k+1)\n",
    "    recs = []\n",
    "    for i, dist in zip(indices[0][1:], distances[0][1:]):\n",
    "        recs.append({\n",
    "            \"recommended_index\": i,\n",
    "            \"title\": df.iloc[i].get('title', 'N/A'),\n",
    "            \"brand\": df.iloc[i].get('brand', 'N/A') if 'brand' in df.columns else 'N/A',\n",
    "            \"distance\": round(float(dist), 3)\n",
    "        })\n",
    "    return recs"
   ]
  },
  {
   "cell_type": "code",
   "execution_count": null,
   "id": "d9fbadef",
   "metadata": {},
   "outputs": [],
   "source": [
    "# 📘 Cell 8: Test recommendation on a random product\n",
    "# Reasoning: Verify that the recommender model works properly.\n",
    "sample_index = np.random.randint(0, len(df))\n",
    "print(\"🔹 Original Product Description:\")\n",
    "print(df[text_col].iloc[sample_index][:400], \"...\\n\")\n",
    "print(\"🔹 Top 5 Similar Recommendations:\")\n",
    "recs = get_recommendations(sample_index, top_k=5)\n",
    "for r in recs:\n",
    "    print(f\"- {r['title']} | Brand: {r['brand']} | Similarity: {1 - r['distance']:.2f}\")"
   ]
  },
  {
   "cell_type": "code",
   "execution_count": null,
   "id": "57b0cd2f",
   "metadata": {},
   "outputs": [],
   "source": [
    "# 📘 Cell 9: Evaluate model (semantic relevance check)\n",
    "# Reasoning: Measure how often similar products belong to the same category.\n",
    "if 'category' in df.columns:\n",
    "    def precision_at_k(idx, k=5):\n",
    "        distances, indices = model.kneighbors(tfidf_matrix[idx], n_neighbors=k+1)\n",
    "        target_category = df['category'].iloc[idx]\n",
    "        similar_categories = df['category'].iloc[indices[0][1:]]\n",
    "        same = (similar_categories == target_category).sum()\n",
    "        return same / k\n",
    "    precision_scores = [precision_at_k(i) for i in range(min(100, len(df)))]\n",
    "    print(f\"Average Precision@5 (Category-based): {np.mean(precision_scores):.3f}\")\n",
    "else:\n",
    "    print(\"⚠️ 'category' column not found — skipping category-based evaluation.\")"
   ]
  },
  {
   "cell_type": "code",
   "execution_count": null,
   "id": "ad736ab8",
   "metadata": {},
   "outputs": [],
   "source": [
    "# 📘 Cell 10: Save trained model and vectorizer\n",
    "# Reasoning: Save model files so they can be reused for predictions in FastAPI or Streamlit apps.\n",
    "with open(\"data/tfidf_vectorizer.pkl\", \"wb\") as f:\n",
    "    pickle.dump(tfidf, f)\n",
    "with open(\"data/recommender_model.pkl\", \"wb\") as f:\n",
    "    pickle.dump(model, f)\n",
    "print(\"✅ Saved TF-IDF vectorizer and Nearest Neighbors model to 'data/' folder.\")"
   ]
  },
  {
   "cell_type": "code",
   "execution_count": null,
   "id": "a867beb0",
   "metadata": {},
   "outputs": [],
   "source": [
    "# 📘 Cell 11: Recommend products based on user text query\n",
    "# Reasoning: Allows users to get recommendations by entering their own text.\n",
    "def recommend_from_text(query, top_k=5):\n",
    "    vec = tfidf.transform([query])\n",
    "    distances, indices = model.kneighbors(vec, n_neighbors=top_k)\n",
    "    recs = []\n",
    "    for i, dist in zip(indices[0], distances[0]):\n",
    "        recs.append({\n",
    "            \"title\": df.iloc[i].get('title', 'N/A'),\n",
    "            \"brand\": df.iloc[i].get('brand', 'N/A') if 'brand' in df.columns else 'N/A',\n",
    "            \"distance\": round(float(dist), 3)\n",
    "        })\n",
    "    return recs\n",
    "query = \"wooden office chair\"\n",
    "print(f\"🔹 Recommendations for: '{query}'\")\n",
    "for r in recommend_from_text(query, top_k=5):\n",
    "    print(f\"- {r['title']} | Similarity: {1 - r['distance']:.2f}\")"
   ]
  },
  {
   "cell_type": "code",
   "execution_count": null,
   "id": "49c9dc47",
   "metadata": {},
   "outputs": [],
   "source": [
    "# 📘 Cell 12: Visualize product similarity (optional)\n",
    "# Reasoning: Create a heatmap showing pairwise cosine similarity between sample products.\n",
    "sample_df = df.sample(10, random_state=42)\n",
    "sample_vectors = tfidf.transform(sample_df[text_col])\n",
    "similarity_matrix = cosine_similarity(sample_vectors)\n",
    "plt.figure(figsize=(8,6))\n",
    "sns.heatmap(similarity_matrix, cmap='viridis', annot=True, fmt='.2f')\n",
    "plt.title(\"Cosine Similarity between Sample Products\")\n",
    "plt.show()"
   ]
  },
  {
   "cell_type": "code",
   "execution_count": null,
   "id": "6f268684",
   "metadata": {},
   "outputs": [],
   "source": [
    "# 📘 Cell 13: Summary\n",
    "# Reasoning: Summarize what was accomplished in this notebook.\n",
    "print(\"\"\"\n",
    "✅ Model Training Summary\n",
    "-------------------------\n",
    "1. Loaded cleaned dataset from data/cleaned_dataset.csv\n",
    "2. Converted text data into TF-IDF embeddings\n",
    "3. Trained Nearest Neighbors model for content-based recommendations\n",
    "4. Tested the model using random samples and text queries\n",
    "5. Evaluated semantic relevance (Precision@K)\n",
    "6. Saved trained models for deployment (FastAPI/Streamlit)\n",
    "7. Visualized product similarity for interpretability\n",
    "\n",
    "🚀 Next Step: Integrate these models into your FastAPI or Streamlit app for live recommendations!\n",
    "\"\"\")"
   ]
  },
  {
   "cell_type": "code",
   "execution_count": null,
   "id": "b32c92a4-620a-4ad1-8958-4af4e35fba0a",
   "metadata": {},
   "outputs": [],
   "source": []
  },
  {
   "cell_type": "code",
   "execution_count": null,
   "id": "7c084bfa-62dc-44b3-a135-f0aaaa46cff9",
   "metadata": {},
   "outputs": [],
   "source": []
  },
  {
   "cell_type": "code",
   "execution_count": null,
   "id": "7a44e5f8-906d-4484-8970-a31be2f2bf75",
   "metadata": {},
   "outputs": [],
   "source": []
  },
  {
   "cell_type": "code",
   "execution_count": null,
   "id": "0a08524f-e6a7-4172-9ecb-d158884e45bb",
   "metadata": {},
   "outputs": [],
   "source": []
  },
  {
   "cell_type": "code",
   "execution_count": null,
   "id": "6af34b17-f2c6-48e9-8672-3ac596da717c",
   "metadata": {},
   "outputs": [],
   "source": []
  }
 ],
 "metadata": {
  "kernelspec": {
   "display_name": "Python 3 (ipykernel)",
   "language": "python",
   "name": "python3"
  },
  "language_info": {
   "codemirror_mode": {
    "name": "ipython",
    "version": 3
   },
   "file_extension": ".py",
   "mimetype": "text/x-python",
   "name": "python",
   "nbconvert_exporter": "python",
   "pygments_lexer": "ipython3",
   "version": "3.13.5"
  }
 },
 "nbformat": 4,
 "nbformat_minor": 5
}
